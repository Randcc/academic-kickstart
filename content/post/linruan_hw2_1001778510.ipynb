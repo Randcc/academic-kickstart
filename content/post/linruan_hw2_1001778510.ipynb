{
 "cells": [
  {
   "cell_type": "code",
   "execution_count": 18,
   "metadata": {},
   "outputs": [],
   "source": [
    "import math\n",
    "from csv import reader\n",
    "import random\n",
    "from math import sqrt\n",
    "import matplotlib.pyplot as plt\n",
    "import operator"
   ]
  },
  {
   "cell_type": "code",
   "execution_count": 19,
   "metadata": {},
   "outputs": [],
   "source": [
    "def preprocess(file_address):\n",
    "    transfer_tag = {\n",
    "        'Iris-setosa':0,\n",
    "        'Iris-versicolor':1,\n",
    "        'Iris-virginica':2\n",
    "    }\n",
    "    tmpset = list()\n",
    "    with open(file_address, 'r') as file:\n",
    "        data_reader = reader(file)\n",
    "        for row in data_reader:\n",
    "            if not row:\n",
    "                continue\n",
    "            for i in range(len(row)-1):\n",
    "                row[i] = float(row[i])\n",
    "            row[-1] = transfer_tag[row[-1]]\n",
    "            tmpset.append(row)\n",
    "    dataset = tmpset\n",
    "    return dataset"
   ]
  },
  {
   "cell_type": "code",
   "execution_count": 20,
   "metadata": {},
   "outputs": [
    {
     "name": "stdout",
     "output_type": "stream",
     "text": [
      "150\n",
      "[[5.1, 3.5, 1.4, 0.2, 0], [4.9, 3.0, 1.4, 0.2, 0], [4.7, 3.2, 1.3, 0.2, 0], [4.6, 3.1, 1.5, 0.2, 0], [5.0, 3.6, 1.4, 0.2, 0]]\n"
     ]
    }
   ],
   "source": [
    "dataset = preprocess('./iris.data')\n",
    "print(len(dataset))\n",
    "print(dataset[0:5])"
   ]
  },
  {
   "cell_type": "markdown",
   "metadata": {},
   "source": [
    "## Divide the dataset as development and test."
   ]
  },
  {
   "cell_type": "code",
   "execution_count": 21,
   "metadata": {},
   "outputs": [],
   "source": [
    "def split_devset_testset(dataset, split):\n",
    "    dev_set = list()\n",
    "    test_set = list()\n",
    "    for index in range(len(dataset) - 1):\n",
    "        if random.uniform(0, 1) < split:\n",
    "            dev_set.append(dataset[index])\n",
    "        else:\n",
    "            test_set.append(dataset[index])\n",
    "    return dev_set, test_set"
   ]
  },
  {
   "cell_type": "code",
   "execution_count": 22,
   "metadata": {},
   "outputs": [
    {
     "name": "stdout",
     "output_type": "stream",
     "text": [
      "dev_set length: 112 --- test_set length: 37\n"
     ]
    }
   ],
   "source": [
    "dev_set, test_set = split_devset_testset(dataset, 0.7)\n",
    "print(\"dev_set length:\", len(dev_set), \"--- test_set length:\", len(test_set))\n"
   ]
  },
  {
   "cell_type": "markdown",
   "metadata": {},
   "source": [
    "## Distance metric."
   ]
  },
  {
   "cell_type": "code",
   "execution_count": 23,
   "metadata": {},
   "outputs": [],
   "source": [
    "def euclidean_distance(sample0, sample1, n = 4):\n",
    "    ret_dist = 0\n",
    "    for i in range(n):\n",
    "        ret_dist += pow((sample0[i] - sample1[i]), 2)\n",
    "    return math.sqrt(ret_dist)\n"
   ]
  },
  {
   "cell_type": "code",
   "execution_count": 24,
   "metadata": {},
   "outputs": [],
   "source": [
    "def normalized_euclidean_distance(sample0, sample1, n = 4):\n",
    "    ret_sum = 0\n",
    "    for i in range(n):\n",
    "        avg = (sample0[i]-sample1[i])/2\n",
    "        cal = sqrt(pow((sample0[i] - avg), 2) + pow((sample1[i] - avg), 2))\n",
    "        ret_sum += pow(((sample0[i] - sample1[i]) / cal), 2)\n",
    "    return math.sqrt(ret_sum)\n"
   ]
  },
  {
   "cell_type": "code",
   "execution_count": 25,
   "metadata": {},
   "outputs": [],
   "source": [
    "def cosine_similarity(sample0, sample1, n = 4):\n",
    "    molecule = 0\n",
    "    denom_x = 0\n",
    "    denom_y = 0\n",
    "    ret_cal = 0\n",
    "\n",
    "    for i in range(n):\n",
    "        molecule += sample0[i] * sample1[i]\n",
    "        denom_x += pow(sample0[i], 2)\n",
    "        denom_y += pow(sample1[i], 2)\n",
    "    ret_cal = -molecule / (sqrt(denom_x) * sqrt(denom_y))\n",
    "    return ret_cal"
   ]
  },
  {
   "cell_type": "code",
   "execution_count": 26,
   "metadata": {},
   "outputs": [],
   "source": [
    "def cal_accuracy(test_set, pred):\n",
    "    correct = 0\n",
    "    for x in range(len(test_set)):\n",
    "        if test_set[x][-1] == pred[x]:\n",
    "            correct += 1\n",
    "    return (correct/float(len(test_set))) * 100"
   ]
  },
  {
   "cell_type": "code",
   "execution_count": 27,
   "metadata": {},
   "outputs": [],
   "source": [
    "def pred_result(result):\n",
    "    votes_list = {}\n",
    "    for index, target in enumerate(result):\n",
    "        if target[-1] in votes_list:\n",
    "            votes_list[target[-1]] += 1\n",
    "        else:\n",
    "            votes_list[target[-1]] = 1\n",
    "    ret_votes = max(votes_list.items(), key=lambda x: x[1])[0]\n",
    "\n",
    "    return ret_votes\n"
   ]
  },
  {
   "cell_type": "markdown",
   "metadata": {},
   "source": [
    "## Implement KNN"
   ]
  },
  {
   "cell_type": "code",
   "execution_count": 28,
   "metadata": {},
   "outputs": [],
   "source": [
    "def knn_func(train_set, k = 1, dist_cata = 0):\n",
    "    label_num = []\n",
    "    for index in train_set:\n",
    "        dist_list = []\n",
    "        for x in range(len(train_set)):\n",
    "            dist = 0\n",
    "            if train_set[x] == index:\n",
    "                continue\n",
    "            else:\n",
    "                if dist_cata == 0:\n",
    "                    dist = euclidean_distance(index, train_set[x])\n",
    "                elif dist_cata == 1:\n",
    "                    dist = normalized_euclidean_distance(index, train_set[x])\n",
    "                elif dist_cata == 2:\n",
    "                    dist = cosine_similarity(index, train_set[x])\n",
    "                dist_list.append((train_set[x], dist))\n",
    "            dist_list.sort(key = operator.itemgetter(1))\n",
    "        neighbors = [dist_list[i][0] for i in range(k)]\n",
    "\n",
    "        label_num.append(pred_result(neighbors))\n",
    "    accuracy = cal_accuracy(train_set, label_num)\n",
    "\n",
    "    return accuracy"
   ]
  },
  {
   "cell_type": "markdown",
   "metadata": {},
   "source": [
    "## Calculate Accuracy and Draw Charts."
   ]
  },
  {
   "cell_type": "code",
   "execution_count": 48,
   "metadata": {},
   "outputs": [],
   "source": [
    "dist_conve = {0: 'euclidean', 1: 'normalized euclidean', 2: 'cosine similarity'}\n",
    "def run_all_func(dev_set):\n",
    "    k = [1, 3, 5, 7]\n",
    "    dist_list = [0, 1, 2]\n",
    "    \n",
    "    for x in k:\n",
    "        for y in dist_list:\n",
    "            acc = knn_func(dev_set, x, y)\n",
    "            print('k =  %d, distance = %s, accuracy = %f' %\n",
    "                  (x, dist_conve[y], acc))"
   ]
  },
  {
   "cell_type": "code",
   "execution_count": 49,
   "metadata": {},
   "outputs": [
    {
     "name": "stdout",
     "output_type": "stream",
     "text": [
      "k =  1, distance = euclidean, accuracy = 95.535714\n",
      "k =  1, distance = normalized euclidean, accuracy = 94.642857\n",
      "k =  1, distance = cosine similarity, accuracy = 95.535714\n",
      "k =  3, distance = euclidean, accuracy = 95.535714\n",
      "k =  3, distance = normalized euclidean, accuracy = 95.535714\n",
      "k =  3, distance = cosine similarity, accuracy = 96.428571\n",
      "k =  5, distance = euclidean, accuracy = 94.642857\n",
      "k =  5, distance = normalized euclidean, accuracy = 95.535714\n",
      "k =  5, distance = cosine similarity, accuracy = 97.321429\n",
      "k =  7, distance = euclidean, accuracy = 95.535714\n",
      "k =  7, distance = normalized euclidean, accuracy = 95.535714\n",
      "k =  7, distance = cosine similarity, accuracy = 97.321429\n"
     ]
    }
   ],
   "source": [
    "run_all_func(dev_set)\n"
   ]
  },
  {
   "cell_type": "code",
   "execution_count": 50,
   "metadata": {},
   "outputs": [],
   "source": [
    "best_k = 0\n",
    "best_method = 0\n",
    "best_acc = 0\n",
    "acc_list = []\n",
    "k_list = range(1, 20, 1)"
   ]
  },
  {
   "cell_type": "code",
   "execution_count": 51,
   "metadata": {},
   "outputs": [
    {
     "data": {
      "image/png": "[encoded data removed]",
      "text/plain": [
       "<Figure size 432x288 with 1 Axes>"
      ]
     },
     "metadata": {
      "needs_background": "light"
     },
     "output_type": "display_data"
    }
   ],
   "source": [
    "for k in k_list:\n",
    "    acc = knn_func(dev_set, k, 0)\n",
    "    acc_list.append(acc)\n",
    "    if acc > best_acc:\n",
    "        best_k, best_method, best_acc = k, 0, acc\n",
    "plt.xlim(0, 20)\n",
    "plt.ylim(90, 100)\n",
    "plt.xlabel('k')\n",
    "plt.ylabel('accuracy')\n",
    "plt.bar(k_list, acc_list)\n",
    "plt.show()"
   ]
  },
  {
   "cell_type": "code",
   "execution_count": 52,
   "metadata": {},
   "outputs": [
    {
     "data": {
      "image/png": "[encoded data removed]",
      "text/plain": [
       "<Figure size 432x288 with 1 Axes>"
      ]
     },
     "metadata": {
      "needs_background": "light"
     },
     "output_type": "display_data"
    }
   ],
   "source": [
    "acc_list1 = []\n",
    "for k in k_list:\n",
    "    acc = knn_func(dev_set, k, 1)\n",
    "    acc_list1.append(acc)\n",
    "    if acc > best_acc:\n",
    "        best_k, best_method, best_acc = k, 1, acc\n",
    "plt.xlim(0, 20)\n",
    "plt.ylim(90, 100)\n",
    "plt.xlabel('k')\n",
    "plt.ylabel('accuracy')\n",
    "plt.bar(k_list, acc_list)\n",
    "plt.show()"
   ]
  },
  {
   "cell_type": "code",
   "execution_count": 53,
   "metadata": {},
   "outputs": [
    {
     "data": {
      "image/png": "[encoded data removed]",
      "text/plain": [
       "<Figure size 432x288 with 1 Axes>"
      ]
     },
     "metadata": {
      "needs_background": "light"
     },
     "output_type": "display_data"
    }
   ],
   "source": [
    "acc_list2 = []\n",
    "for k in k_list:\n",
    "    acc = knn_func(dev_set, k, 2)\n",
    "    acc_list2.append(acc)\n",
    "    if acc > best_acc:\n",
    "        best_k, best_method, best_acc = k, 2, acc\n",
    "\n",
    "plt.xlim(0, 20)\n",
    "plt.ylim(90, 100)\n",
    "plt.xlabel('k')\n",
    "plt.ylabel('accuracy')\n",
    "plt.bar(k_list, acc_list)\n",
    "plt.show()"
   ]
  },
  {
   "cell_type": "code",
   "execution_count": 54,
   "metadata": {},
   "outputs": [
    {
     "name": "stdout",
     "output_type": "stream",
     "text": [
      "max_k = 13, max_method = cosine similarity, max_acc = 98.214286\n"
     ]
    }
   ],
   "source": [
    "print('max_k = %d, max_method = %s, max_acc = %f'%\n",
    "                  (best_k, dist_conve[best_method], best_acc))\n"
   ]
  },
  {
   "cell_type": "markdown",
   "metadata": {},
   "source": [
    "## Using the test dataset."
   ]
  },
  {
   "cell_type": "code",
   "execution_count": 55,
   "metadata": {},
   "outputs": [
    {
     "name": "stdout",
     "output_type": "stream",
     "text": [
      "best accuracy: 97.2972972972973\n"
     ]
    }
   ],
   "source": [
    "best_acc = knn_func(test_set, best_k, best_method)\n",
    "print(\"best accuracy:\", best_acc)\n"
   ]
  }
 ],
 "metadata": {
  "kernelspec": {
   "display_name": "Python 3",
   "language": "python",
   "name": "python3"
  },
  "language_info": {
   "codemirror_mode": {
    "name": "ipython",
    "version": 3
   },
   "file_extension": ".py",
   "mimetype": "text/x-python",
   "name": "python",
   "nbconvert_exporter": "python",
   "pygments_lexer": "ipython3",
   "version": "3.5.2"
  }
 },
 "nbformat": 4,
 "nbformat_minor": 2
}
